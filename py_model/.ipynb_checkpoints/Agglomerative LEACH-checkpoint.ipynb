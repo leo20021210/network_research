{
 "cells": [
  {
   "cell_type": "code",
   "execution_count": 1,
   "metadata": {},
   "outputs": [],
   "source": [
    "import numpy as np\n",
    "from scipy.stats import uniform\n",
    "import matplotlib.pyplot as plt"
   ]
  },
  {
   "cell_type": "code",
   "execution_count": 2,
   "metadata": {},
   "outputs": [],
   "source": [
    "import random\n",
    "random.seed(1)\n",
    "# base station location\n",
    "base_X = 25\n",
    "base_Y = -100\n",
    "# transmission energy and receive energy J/bit\n",
    "ETx = 50*0.000000001\n",
    "ERc = ETx\n",
    "# amplification coefficientds J/bit/m^2\n",
    "epsilon_amp = 10*0.000000000001\n",
    "# number of clusters\n",
    "num_clusters = 5\n",
    "# number of nodes\n",
    "num_nodes = 100\n",
    "# initial energy of one node\n",
    "energy = 0.5\n",
    "# size of a packet\n",
    "packet_bit = 2000\n",
    "# aggregation energy\n",
    "aggr = 5*0.000000001\n",
    "# gather x bits together and aggregate them into 0.3 * x bits\n",
    "aggr_rate = 0.25\n",
    "# P and 1/P calculating threshould\n",
    "P = num_clusters / (num_nodes * 1.0)\n",
    "one_by_P = num_nodes // num_clusters"
   ]
  },
  {
   "cell_type": "code",
   "execution_count": 3,
   "metadata": {},
   "outputs": [],
   "source": [
    "# cluster class\n",
    "class Cluster:\n",
    "    def __init__(self):\n",
    "        # nodes in one cluster\n",
    "        self.nodes = []\n",
    "        # cluster head, type (node)\n",
    "        self.head = None\n",
    "        # number of bits awaiting aggregation\n",
    "        self.bits = 0\n",
    "    \n",
    "    # add one node into the cluster\n",
    "    def add(self, node):\n",
    "        self.nodes.append(node)\n",
    "      \n",
    "    # tell whether the node is the cluster head\n",
    "    def is_head(self, node):\n",
    "        return node == self.head\n",
    "    \n",
    "    # quick calculation of the square of distance between one node and the cluster head\n",
    "    def dis(self, node):\n",
    "        return distance(node.X, self.head.X, node.Y, self.head.Y)"
   ]
  },
  {
   "cell_type": "code",
   "execution_count": 4,
   "metadata": {},
   "outputs": [],
   "source": [
    "# square of distance instead of distance\n",
    "def distance(x_1, x_2, y_1, y_2):\n",
    "    return (x_1 - x_2)**2 + (y_1 - y_2)**2"
   ]
  },
  {
   "cell_type": "code",
   "execution_count": 5,
   "metadata": {},
   "outputs": [],
   "source": [
    "def T(r):\n",
    "    #print(P, one_by_P, r, P / (1 - P * (r % one_by_P)))\n",
    "    return P / (1 - P * (r % one_by_P))"
   ]
  },
  {
   "cell_type": "code",
   "execution_count": 6,
   "metadata": {},
   "outputs": [],
   "source": [
    "import random\n",
    "\n",
    "class Node:\n",
    "    def __init__(self, x, y):\n",
    "        # (X,Y)\n",
    "        self.X = x\n",
    "        self.Y = y\n",
    "        # remaining energy\n",
    "        self.energy = energy\n",
    "        # false means the nodes alive, otherwise dead\n",
    "        self.die = False\n",
    "        self.last = -1\n",
    "        self.cluster = None\n",
    "    \n",
    "    def elect(self, r, clusters):\n",
    "        self.cluster = None\n",
    "        if r % one_by_P == 0:\n",
    "            self.last = -1\n",
    "        if (self.last == -1 or self.last + one_by_P <= r % one_by_P) and not self.die:\n",
    "            if random.uniform (0,1) <= T(r):\n",
    "                cluster = Cluster()\n",
    "                cluster.add(self)\n",
    "                cluster.head = self\n",
    "                clusters.append(cluster)\n",
    "                self.last = r\n",
    "                self.cluster = cluster\n",
    "                #print(r, len(clusters))\n",
    "    \n",
    "    def select(self, r, clusters):\n",
    "        if self.cluster != None:\n",
    "            return\n",
    "        min_dis = 100000000\n",
    "        cluster = -1\n",
    "        for i in range(len(clusters)):\n",
    "            if min_dis > clusters[i].dis(self):\n",
    "                cluster = i\n",
    "                min_dis = clusters[i].dis(self)\n",
    "        #print(len(clusters), cluster)\n",
    "        if cluster == -1:\n",
    "            return\n",
    "        clusters[cluster].add(self)\n",
    "        self.cluster = clusters[cluster]\n",
    "    \n",
    "    def direct(self):\n",
    "        transmission = ETx * packet_bit\n",
    "        amplification = epsilon_amp * packet_bit * distance(self.X, base_X, self.Y, base_Y)\n",
    "        if self.energy < transmission + amplification:\n",
    "            self.die = True\n",
    "        else:\n",
    "            self.energy -= (transmission + amplification)\n",
    "    \n",
    "    def send(self):\n",
    "        if self.cluster.is_head(self):\n",
    "            if self.cluster.bits == 0:\n",
    "                transmission = ETx * packet_bit\n",
    "                amplification = epsilon_amp * packet_bit * distance(self.X, base_X, self.Y, base_Y)\n",
    "                if self.energy < transmission + amplification:\n",
    "                    self.die = True\n",
    "                else:\n",
    "                    self.energy -= (transmission + amplification)\n",
    "            else:\n",
    "                transmission = ETx * aggr_rate * (packet_bit + self.cluster.bits)\n",
    "                amplification = epsilon_amp * aggr_rate * (packet_bit + self.cluster.bits) * distance(self.X, base_X, self.Y, base_Y)\n",
    "                if self.energy < transmission + amplification + aggr:\n",
    "                    self.die = True\n",
    "                else:\n",
    "                    self.energy -= (transmission + amplification + aggr)\n",
    "        else:\n",
    "            if self.cluster.head.die:\n",
    "                self.die = True\n",
    "                return\n",
    "            transmission = ETx * packet_bit\n",
    "            amplification = epsilon_amp * packet_bit * self.cluster.dis(self)\n",
    "            if self.energy < transmission + amplification:\n",
    "                self.die = True\n",
    "            else:\n",
    "                self.energy -= (transmission + amplification)\n",
    "            receive = ERc * packet_bit\n",
    "            self.cluster.head.energy -= receive\n",
    "            self.cluster.bits += packet_bit"
   ]
  },
  {
   "cell_type": "code",
   "execution_count": 7,
   "metadata": {},
   "outputs": [],
   "source": [
    "num_nodes = 200\n",
    "Xs = uniform.rvs(loc=0, scale=60, size=num_nodes)\n",
    "Ys = uniform.rvs(loc=0, scale=60, size=num_nodes)"
   ]
  },
  {
   "cell_type": "code",
   "execution_count": 8,
   "metadata": {},
   "outputs": [
    {
     "data": {
      "text/plain": [
       "<matplotlib.collections.PathCollection at 0x1272d6b1fc8>"
      ]
     },
     "execution_count": 8,
     "metadata": {},
     "output_type": "execute_result"
    },
    {
     "data": {
      "image/png": "[encoded data removed]",
      "text/plain": [
       "<Figure size 1080x1080 with 1 Axes>"
      ]
     },
     "metadata": {
      "needs_background": "light"
     },
     "output_type": "display_data"
    }
   ],
   "source": [
    "plt.figure(figsize=(15, 15))\n",
    "plt.scatter(Xs, Ys, s = 30)"
   ]
  },
  {
   "cell_type": "code",
   "execution_count": 10,
   "metadata": {},
   "outputs": [
    {
     "name": "stdout",
     "output_type": "stream",
     "text": [
      "0 number of nodes dead 0\n",
      "400 number of nodes dead 0\n",
      "800 number of nodes dead 0\n",
      "1200 number of nodes dead 0\n",
      "1600 number of nodes dead 50\n",
      "2000 number of nodes dead 146\n",
      "2400 number of nodes dead 196\n"
     ]
    },
    {
     "data": {
      "image/png": "[encoded data removed]",
      "text/plain": [
       "<Figure size 432x288 with 1 Axes>"
      ]
     },
     "metadata": {
      "needs_background": "light"
     },
     "output_type": "display_data"
    }
   ],
   "source": [
    "packet_bit = 2000\n",
    "energy = 0.5\n",
    "num_rounds = 2800\n",
    "random.seed(1)\n",
    "color = ['red', 'blue', 'green', 'yellow', 'purple']\n",
    "index = -1\n",
    "for k in [1]:\n",
    "    index += 1\n",
    "    Nodes = [Node(Xs[i], Ys[i]) for i in range(num_nodes)]\n",
    "    clusters = []\n",
    "    dead = []\n",
    "    num = []\n",
    "    P = 0.05\n",
    "    one_by_P = 1/P\n",
    "    for i in range(num_rounds):\n",
    "        if i%400 == 0:\n",
    "            print(i, \"number of nodes dead\", len(dead))\n",
    "        num.append(len(dead))\n",
    "        #print(\"energy\", Nodes[0].energy)\n",
    "        clusters = []\n",
    "        for node in Nodes:\n",
    "            node.elect(i, clusters)\n",
    "        if len(clusters) == 0:\n",
    "            #print(i, \"PPPPPPPPPP\", P, T(i))\n",
    "            #P = 5/(num_nodes - len(dead) + 1)\n",
    "            P *= k\n",
    "            P = min(1, P)\n",
    "            one_by_P = 1/P\n",
    "            for j in range(num_nodes):\n",
    "                if j not in dead:\n",
    "                    Nodes[j].direct()\n",
    "                    if Nodes[j].die:\n",
    "                        dead.append(j)\n",
    "        else:\n",
    "            for node in Nodes:\n",
    "                node.select(i, clusters)\n",
    "            for j in range(num_nodes):\n",
    "                if j not in dead:\n",
    "                    Nodes[j].send()\n",
    "                    if Nodes[j].die:\n",
    "                        dead.append(j)\n",
    "\n",
    "    plt.plot(range(num_rounds)[1300:], num[1300:], color = color[index])"
   ]
  },
  {
   "cell_type": "code",
   "execution_count": 31,
   "metadata": {},
   "outputs": [
    {
     "name": "stdout",
     "output_type": "stream",
     "text": [
      "0 number of nodes dead 0\n",
      "400 number of nodes dead 0\n",
      "800 number of nodes dead 0\n",
      "1200 number of nodes dead 0\n",
      "1600 number of nodes dead 47\n",
      "2000 number of nodes dead 173\n",
      "2400 number of nodes dead 199\n"
     ]
    }
   ],
   "source": [
    "random.seed(1)\n",
    "Nodes = [Node(Xs[i], Ys[i]) for i in range(num_nodes)]\n",
    "clusters = []\n",
    "dead = []\n",
    "num1 = []\n",
    "P = 0.05\n",
    "one_by_P = 1/P\n",
    "for i in range(num_rounds):\n",
    "    if i%400 == 0:\n",
    "        print(i, \"number of nodes dead\", len(dead))\n",
    "    num1.append(len(dead))\n",
    "    #print(\"energy\", Nodes[0].energy)\n",
    "    clusters = []\n",
    "    for node in Nodes:\n",
    "        node.elect(i, clusters)\n",
    "    if len(clusters) == 0:\n",
    "        for j in range(num_nodes):\n",
    "            if j not in dead:\n",
    "                Nodes[j].direct()\n",
    "                if Nodes[j].die:\n",
    "                    dead.append(j)\n",
    "    else:\n",
    "        for node in Nodes:\n",
    "            node.select(i, clusters)\n",
    "        for j in range(num_nodes):\n",
    "            if j not in dead:\n",
    "                Nodes[j].send()\n",
    "                if Nodes[j].die:\n",
    "                    dead.append(j)\n"
   ]
  },
  {
   "cell_type": "code",
   "execution_count": 36,
   "metadata": {},
   "outputs": [
    {
     "data": {
      "text/plain": [
       "[<matplotlib.lines.Line2D at 0x24d6625b648>]"
      ]
     },
     "execution_count": 36,
     "metadata": {},
     "output_type": "execute_result"
    },
    {
     "data": {
      "image/png": "[encoded data removed]",
      "text/plain": [
       "<Figure size 432x288 with 1 Axes>"
      ]
     },
     "metadata": {
      "needs_background": "light"
     },
     "output_type": "display_data"
    }
   ],
   "source": [
    "plt.plot(range(num_rounds)[1300:], num[1300:], color = \"red\")\n",
    "plt.plot(range(num_rounds)[1300:], num1[1300:], color = \"blue\")"
   ]
  },
  {
   "cell_type": "code",
   "execution_count": 13,
   "metadata": {},
   "outputs": [
    {
     "name": "stdout",
     "output_type": "stream",
     "text": [
      "0 number of nodes dead 0\n",
      "10 number of nodes dead 0\n",
      "20 number of nodes dead 0\n",
      "30 number of nodes dead 0\n",
      "40 number of nodes dead 0\n",
      "50 number of nodes dead 0\n",
      "60 number of nodes dead 0\n",
      "70 number of nodes dead 0\n",
      "80 number of nodes dead 0\n",
      "90 number of nodes dead 0\n",
      "100 number of nodes dead 24\n",
      "110 number of nodes dead 42\n",
      "120 number of nodes dead 57\n",
      "130 number of nodes dead 70\n",
      "140 number of nodes dead 79\n",
      "150 number of nodes dead 84\n",
      "160 number of nodes dead 97\n",
      "170 number of nodes dead 100\n",
      "180 number of nodes dead 100\n",
      "190 number of nodes dead 100\n",
      "200 number of nodes dead 100\n",
      "210 number of nodes dead 100\n",
      "220 number of nodes dead 100\n",
      "230 number of nodes dead 100\n",
      "240 number of nodes dead 100\n"
     ]
    },
    {
     "data": {
      "text/plain": [
       "<matplotlib.collections.PathCollection at 0x2a1cfe888c8>"
      ]
     },
     "execution_count": 13,
     "metadata": {},
     "output_type": "execute_result"
    },
    {
     "data": {
      "image/png": "[encoded data removed]",
      "text/plain": [
       "<Figure size 432x288 with 1 Axes>"
      ]
     },
     "metadata": {
      "needs_background": "light"
     },
     "output_type": "display_data"
    }
   ],
   "source": [
    "Nodes = [None for i in range(num_nodes)]\n",
    "\n",
    "for i in range(num_nodes):\n",
    "    Nodes[i] = Node(Xs[i], Ys[i])\n",
    "num2 = []\n",
    "dead = []\n",
    "for i in range(250):\n",
    "    num2.append(len(dead))\n",
    "    if i%10 == 0:\n",
    "        print(i, \"number of nodes dead\", len(dead))\n",
    "    #print(Nodes[0].energy)\n",
    "    for j in range(num_nodes):\n",
    "        if j not in dead:\n",
    "            Nodes[j].direct()\n",
    "            if Nodes[j].die:\n",
    "                dead.append(j)\n",
    "                \n",
    "dead_X = []\n",
    "dead_Y = []\n",
    "undead_X = []\n",
    "undead_Y = []\n",
    "for i in range(num_nodes):\n",
    "    if i in dead:\n",
    "        dead_X.append(Xs[i])\n",
    "        dead_Y.append(Ys[i])\n",
    "    else:\n",
    "        undead_X.append(Xs[i])\n",
    "        undead_Y.append(Ys[i])\n",
    "plt.scatter(dead_X, dead_Y, s = 5, color = 'red')\n",
    "plt.scatter(undead_X, undead_Y, s = 5, color = 'blue')"
   ]
  },
  {
   "cell_type": "code",
   "execution_count": 34,
   "metadata": {},
   "outputs": [
    {
     "data": {
      "text/plain": [
       "[<matplotlib.lines.Line2D at 0x2a1d15205c8>]"
      ]
     },
     "execution_count": 34,
     "metadata": {},
     "output_type": "execute_result"
    },
    {
     "data": {
      "image/png": "[encoded data removed]",
      "text/plain": [
       "<Figure size 432x288 with 1 Axes>"
      ]
     },
     "metadata": {
      "needs_background": "light"
     },
     "output_type": "display_data"
    }
   ],
   "source": [
    "plt.plot(range(250), num, color = 'r')\n",
    "plt.plot(range(250), num1, color = 'b')\n",
    "plt.plot(range(250), num2, color = 'g')"
   ]
  },
  {
   "cell_type": "code",
   "execution_count": null,
   "metadata": {},
   "outputs": [],
   "source": []
  }
 ],
 "metadata": {
  "kernelspec": {
   "display_name": "Python 3",
   "language": "python",
   "name": "python3"
  },
  "language_info": {
   "codemirror_mode": {
    "name": "ipython",
    "version": 3
   },
   "file_extension": ".py",
   "mimetype": "text/x-python",
   "name": "python",
   "nbconvert_exporter": "python",
   "pygments_lexer": "ipython3",
   "version": "3.7.6"
  }
 },
 "nbformat": 4,
 "nbformat_minor": 4
}
