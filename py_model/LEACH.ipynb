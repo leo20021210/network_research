{
 "cells": [
  {
   "cell_type": "code",
   "execution_count": 142,
   "metadata": {},
   "outputs": [],
   "source": [
    "import numpy as np\n",
    "from scipy.stats import uniform\n",
    "import matplotlib.pyplot as plt"
   ]
  },
  {
   "cell_type": "code",
   "execution_count": 168,
   "metadata": {},
   "outputs": [],
   "source": [
    "import random\n",
    "random.seed(1)\n",
    "# base station location\n",
    "base_X = 25\n",
    "base_Y = -100\n",
    "# transmission energy and receive energy J/bit\n",
    "ETx = 50*0.000000001\n",
    "ERc = ETx\n",
    "# amplification coefficientds J/bit/m^2\n",
    "epsilon_amp = 10*0.000000000001\n",
    "# number of clusters\n",
    "num_clusters = 5\n",
    "# number of nodes\n",
    "num_nodes = 100\n",
    "# initial energy of one node\n",
    "energy = 0.5\n",
    "# size of a packet\n",
    "packet_bit = 2000\n",
    "# aggregation energy\n",
    "aggr = 5*0.000000001\n",
    "# gather x bits together and aggregate them into 0.3 * x bits\n",
    "aggr_rate = 0.2\n",
    "# P and 1/P calculating threshould\n",
    "P = num_clusters / (num_nodes * 1.0)\n",
    "one_by_P = num_nodes // num_clusters"
   ]
  },
  {
   "cell_type": "code",
   "execution_count": 144,
   "metadata": {},
   "outputs": [],
   "source": [
    "# cluster class\n",
    "class Cluster:\n",
    "    def __init__(self):\n",
    "        # nodes in one cluster\n",
    "        self.nodes = []\n",
    "        # cluster head, type (node)\n",
    "        self.head = None\n",
    "        # number of bits awaiting aggregation\n",
    "        self.bits = 0\n",
    "    \n",
    "    # add one node into the cluster\n",
    "    def add(self, node):\n",
    "        self.nodes.append(node)\n",
    "      \n",
    "    # tell whether the node is the cluster head\n",
    "    def is_head(self, node):\n",
    "        return node == self.head\n",
    "    \n",
    "    # quick calculation of the square of distance between one node and the cluster head\n",
    "    def dis(self, node):\n",
    "        return distance(node.X, self.head.X, node.Y, self.head.Y)"
   ]
  },
  {
   "cell_type": "code",
   "execution_count": 145,
   "metadata": {},
   "outputs": [],
   "source": [
    "# square of distance instead of distance\n",
    "def distance(x_1, x_2, y_1, y_2):\n",
    "    return (x_1 - x_2)**2 + (y_1 - y_2)**2"
   ]
  },
  {
   "cell_type": "code",
   "execution_count": 146,
   "metadata": {},
   "outputs": [],
   "source": [
    "def T(r):\n",
    "    #print(P, one_by_P, r, P / (1 - P * (r % one_by_P)))\n",
    "    return P / (1 - P * (r % one_by_P))"
   ]
  },
  {
   "cell_type": "code",
   "execution_count": 160,
   "metadata": {},
   "outputs": [],
   "source": [
    "import random\n",
    "\n",
    "class Node:\n",
    "    def __init__(self, x, y):\n",
    "        # (X,Y)\n",
    "        self.X = x\n",
    "        self.Y = y\n",
    "        # remaining energy\n",
    "        self.energy = energy\n",
    "        # false means the nodes alive, otherwise dead\n",
    "        self.die = False\n",
    "        self.last = -1\n",
    "        self.cluster = None\n",
    "    \n",
    "    def elect(self, r, clusters):\n",
    "        self.cluster = None\n",
    "        if r % one_by_P == 0:\n",
    "            self.last = -1\n",
    "        if (self.last == -1 or self.last + one_by_P <= r % one_by_P) and not self.die:\n",
    "            if random.uniform (0,1) <= T(r):\n",
    "                cluster = Cluster()\n",
    "                cluster.add(self)\n",
    "                cluster.head = self\n",
    "                clusters.append(cluster)\n",
    "                self.last = r\n",
    "                self.cluster = cluster\n",
    "                #print(r, len(clusters))\n",
    "    \n",
    "    def select(self, r, clusters):\n",
    "        if self.cluster != None:\n",
    "            return\n",
    "        min_dis = 100000000\n",
    "        cluster = -1\n",
    "        for i in range(len(clusters)):\n",
    "            if min_dis > clusters[i].dis(self):\n",
    "                cluster = i\n",
    "                min_dis = clusters[i].dis(self)\n",
    "        #print(len(clusters), cluster)\n",
    "        if cluster == -1:\n",
    "            return\n",
    "        clusters[cluster].add(self)\n",
    "        self.cluster = clusters[cluster]\n",
    "    \n",
    "    def send(self):\n",
    "        if self.cluster.is_head(self):\n",
    "            if self.cluster.bits == 0:\n",
    "                transmission = ETx * packet_bit\n",
    "                amplification = epsilon_amp * packet_bit * distance(self.X, base_X, self.Y, base_Y)\n",
    "                if self.energy < transmission + amplification:\n",
    "                    self.die = True\n",
    "                else:\n",
    "                    self.energy -= (transmission + amplification)\n",
    "            else:\n",
    "                transmission = ETx * aggr_rate * (packet_bit + self.cluster.bits)\n",
    "                amplification = epsilon_amp * aggr_rate * (packet_bit + self.cluster.bits) * distance(self.X, base_X, self.Y, base_Y)\n",
    "                if self.energy < transmission + amplification + aggr:\n",
    "                    self.die = True\n",
    "                else:\n",
    "                    self.energy -= (transmission + amplification + aggr)\n",
    "        else:\n",
    "            if self.cluster.head.die:\n",
    "                self.die = True\n",
    "                return\n",
    "            transmission = ETx * packet_bit\n",
    "            amplification = epsilon_amp * packet_bit * self.cluster.dis(self)\n",
    "            if self.energy < transmission + amplification:\n",
    "                self.die = True\n",
    "            else:\n",
    "                self.energy -= (transmission + amplification)\n",
    "            receive = ERc * packet_bit\n",
    "            self.cluster.head.energy -= receive\n",
    "            self.cluster.bits += packet_bit"
   ]
  },
  {
   "cell_type": "code",
   "execution_count": 148,
   "metadata": {},
   "outputs": [],
   "source": [
    "Xs = uniform.rvs(loc=0, scale=50, size=num_nodes)\n",
    "Ys = uniform.rvs(loc=0, scale=50, size=num_nodes)"
   ]
  },
  {
   "cell_type": "code",
   "execution_count": 149,
   "metadata": {},
   "outputs": [
    {
     "data": {
      "text/plain": [
       "<matplotlib.collections.PathCollection at 0x28a346b5148>"
      ]
     },
     "execution_count": 149,
     "metadata": {},
     "output_type": "execute_result"
    },
    {
     "data": {
      "image/png": "[encoded data removed]",
      "text/plain": [
       "<Figure size 1080x1080 with 1 Axes>"
      ]
     },
     "metadata": {
      "needs_background": "light"
     },
     "output_type": "display_data"
    }
   ],
   "source": [
    "plt.figure(figsize=(15, 15))\n",
    "plt.scatter(Xs, Ys, s = 30)"
   ]
  },
  {
   "cell_type": "code",
   "execution_count": 169,
   "metadata": {},
   "outputs": [
    {
     "name": "stdout",
     "output_type": "stream",
     "text": [
      "0 0\n",
      "100 0\n",
      "200 0\n",
      "0.14285714285714288 hello\n",
      "300 0\n",
      "400 0\n",
      "0.1666666666666667 hello\n",
      "0.1666666666666667 hello\n",
      "500 0\n",
      "0.05882352941176471 hello\n",
      "600 0\n",
      "700 0\n",
      "0.07142857142857144 hello\n",
      "800 0\n",
      "1.0000000000000013 hello\n",
      "900 0\n",
      "0.09090909090909091 hello\n",
      "0.06666666666666667 hello\n",
      "0.052631578947368425 hello\n",
      "1000 0\n",
      "0.1 hello\n",
      "1100 0\n",
      "0.33333333333333354 hello\n",
      "1200 0\n",
      "0.33333333333333354 hello\n",
      "0.052631578947368425 hello\n",
      "1300 0\n",
      "0.07142857142857144 hello\n",
      "0.5000000000000001 hello\n",
      "1400 1\n",
      "0.05882352941176471 hello\n",
      "0.06666666666666667 hello\n",
      "1500 11\n"
     ]
    }
   ],
   "source": [
    "Nodes = [Node(Xs[i], Ys[i]) for i in range(num_nodes)]\n",
    "clusters = []\n",
    "dead = []\n",
    "for i in range(1501):\n",
    "    clusters = []\n",
    "    for node in Nodes:\n",
    "        node.elect(i, clusters)\n",
    "    if len(clusters) == 0:\n",
    "        print(T(i), \"hello\")\n",
    "        continue\n",
    "    for node in Nodes:\n",
    "        node.select(i, clusters)\n",
    "    #print(Nodes[90].energy)\n",
    "    for j in range(num_nodes):\n",
    "        if j not in dead:\n",
    "            Nodes[j].send()\n",
    "            if Nodes[j].die:\n",
    "                dead.append(j)\n",
    "    if i%100 == 0:\n",
    "        print(i, len(dead))"
   ]
  },
  {
   "cell_type": "code",
   "execution_count": 170,
   "metadata": {},
   "outputs": [
    {
     "data": {
      "text/plain": [
       "<matplotlib.collections.PathCollection at 0x28a34e6e748>"
      ]
     },
     "execution_count": 170,
     "metadata": {},
     "output_type": "execute_result"
    },
    {
     "data": {
      "image/png": "[encoded data removed]",
      "text/plain": [
       "<Figure size 1080x1080 with 1 Axes>"
      ]
     },
     "metadata": {
      "needs_background": "light"
     },
     "output_type": "display_data"
    }
   ],
   "source": [
    "plt.figure(figsize=(15, 15))\n",
    "dead_X = []\n",
    "dead_Y = []\n",
    "undead_X = []\n",
    "undead_Y = []\n",
    "for i in range(num_nodes):\n",
    "    if i in dead:\n",
    "        dead_X.append(Xs[i])\n",
    "        dead_Y.append(Ys[i])\n",
    "    else:\n",
    "        undead_X.append(Xs[i])\n",
    "        undead_Y.append(Ys[i])\n",
    "plt.scatter(dead_X, dead_Y, s = 30, color = 'red')\n",
    "plt.scatter(undead_X, undead_Y, s = 30, color = 'blue')"
   ]
  },
  {
   "cell_type": "code",
   "execution_count": 167,
   "metadata": {},
   "outputs": [
    {
     "name": "stdout",
     "output_type": "stream",
     "text": [
      "52\n"
     ]
    }
   ],
   "source": [
    "print(len(dead))"
   ]
  },
  {
   "cell_type": "code",
   "execution_count": null,
   "metadata": {},
   "outputs": [],
   "source": []
  }
 ],
 "metadata": {
  "kernelspec": {
   "display_name": "Python 3",
   "language": "python",
   "name": "python3"
  },
  "language_info": {
   "codemirror_mode": {
    "name": "ipython",
    "version": 3
   },
   "file_extension": ".py",
   "mimetype": "text/x-python",
   "name": "python",
   "nbconvert_exporter": "python",
   "pygments_lexer": "ipython3",
   "version": "3.7.6"
  }
 },
 "nbformat": 4,
 "nbformat_minor": 4
}
