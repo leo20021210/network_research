{
 "cells": [
  {
   "cell_type": "code",
   "execution_count": 1,
   "metadata": {},
   "outputs": [],
   "source": [
    "import numpy as np\n",
    "from scipy.stats import uniform\n",
    "import matplotlib.pyplot as plt"
   ]
  },
  {
   "cell_type": "code",
   "execution_count": 2,
   "metadata": {},
   "outputs": [],
   "source": [
    "import random\n",
    "random.seed(1)\n",
    "# base station location\n",
    "base_X = 25\n",
    "base_Y = -100\n",
    "# transmission energy and receive energy J/bit\n",
    "ETx = 50*0.000000001\n",
    "ERc = ETx\n",
    "# amplification coefficientds J/bit/m^2\n",
    "epsilon_amp = 10*0.000000000001\n",
    "# number of clusters\n",
    "num_clusters = 5\n",
    "# number of nodes\n",
    "num_nodes = 100\n",
    "# initial energy of one node\n",
    "energy = 0.1\n",
    "# size of a packet\n",
    "packet_bit = 2000\n",
    "# aggregation energy\n",
    "aggr = 5*0.000000001\n",
    "# gather x bits together and aggregate them into 0.3 * x bits\n",
    "aggr_rate = 0.25\n",
    "# P and 1/P calculating threshould\n",
    "P = num_clusters / (num_nodes * 1.0)\n",
    "one_by_P = num_nodes // num_clusters"
   ]
  },
  {
   "cell_type": "code",
   "execution_count": 3,
   "metadata": {},
   "outputs": [],
   "source": [
    "# cluster class\n",
    "class Cluster:\n",
    "    def __init__(self):\n",
    "        # nodes in one cluster\n",
    "        self.nodes = []\n",
    "        # cluster head, type (node)\n",
    "        self.head = None\n",
    "        # number of bits awaiting aggregation\n",
    "        self.bits = 0\n",
    "    \n",
    "    # add one node into the cluster\n",
    "    def add(self, node):\n",
    "        self.nodes.append(node)\n",
    "      \n",
    "    # tell whether the node is the cluster head\n",
    "    def is_head(self, node):\n",
    "        return node == self.head\n",
    "    \n",
    "    # quick calculation of the square of distance between one node and the cluster head\n",
    "    def dis(self, node):\n",
    "        return distance(node.X, self.head.X, node.Y, self.head.Y)"
   ]
  },
  {
   "cell_type": "code",
   "execution_count": 4,
   "metadata": {},
   "outputs": [],
   "source": [
    "# square of distance instead of distance\n",
    "def distance(x_1, x_2, y_1, y_2):\n",
    "    return (x_1 - x_2)**2 + (y_1 - y_2)**2"
   ]
  },
  {
   "cell_type": "code",
   "execution_count": 5,
   "metadata": {},
   "outputs": [],
   "source": [
    "def T(r):\n",
    "    #print(P, one_by_P, r, P / (1 - P * (r % one_by_P)))\n",
    "    return P / (1 - P * (r % one_by_P))"
   ]
  },
  {
   "cell_type": "code",
   "execution_count": 6,
   "metadata": {},
   "outputs": [],
   "source": [
    "import random\n",
    "\n",
    "class Node:\n",
    "    def __init__(self, x, y):\n",
    "        # (X,Y)\n",
    "        self.X = x\n",
    "        self.Y = y\n",
    "        # remaining energy\n",
    "        self.energy = energy\n",
    "        # false means the nodes alive, otherwise dead\n",
    "        self.die = False\n",
    "        self.last = -1\n",
    "        self.cluster = None\n",
    "    \n",
    "    def elect(self, r, clusters):\n",
    "        self.cluster = None\n",
    "        if r % one_by_P == 0:\n",
    "            self.last = -1\n",
    "        if (self.last == -1 or self.last + one_by_P <= r % one_by_P) and not self.die:\n",
    "            if random.uniform (0,1) <= T(r):\n",
    "                cluster = Cluster()\n",
    "                cluster.add(self)\n",
    "                cluster.head = self\n",
    "                clusters.append(cluster)\n",
    "                self.last = r\n",
    "                self.cluster = cluster\n",
    "                #print(r, len(clusters))\n",
    "    \n",
    "    def select(self, r, clusters):\n",
    "        if self.cluster != None:\n",
    "            return\n",
    "        min_dis = 100000000\n",
    "        cluster = -1\n",
    "        for i in range(len(clusters)):\n",
    "            if min_dis > clusters[i].dis(self):\n",
    "                cluster = i\n",
    "                min_dis = clusters[i].dis(self)\n",
    "        #print(len(clusters), cluster)\n",
    "        if cluster == -1:\n",
    "            return\n",
    "        clusters[cluster].add(self)\n",
    "        self.cluster = clusters[cluster]\n",
    "    \n",
    "    def direct(self):\n",
    "        transmission = ETx * packet_bit\n",
    "        amplification = epsilon_amp * packet_bit * distance(self.X, base_X, self.Y, base_Y)\n",
    "        if self.energy < transmission + amplification:\n",
    "            self.die = True\n",
    "        else:\n",
    "            self.energy -= (transmission + amplification)\n",
    "    \n",
    "    def send(self):\n",
    "        if self.cluster.is_head(self):\n",
    "            if self.cluster.bits == 0:\n",
    "                transmission = ETx * packet_bit\n",
    "                amplification = epsilon_amp * packet_bit * distance(self.X, base_X, self.Y, base_Y)\n",
    "                if self.energy < transmission + amplification:\n",
    "                    self.die = True\n",
    "                else:\n",
    "                    self.energy -= (transmission + amplification)\n",
    "            else:\n",
    "                transmission = ETx * aggr_rate * (packet_bit + self.cluster.bits)\n",
    "                amplification = epsilon_amp * aggr_rate * (packet_bit + self.cluster.bits) * distance(self.X, base_X, self.Y, base_Y)\n",
    "                #print(transmission, amplification, aggr, self.energy)\n",
    "                if self.energy < transmission + amplification + aggr:\n",
    "                    self.die = True\n",
    "                else:\n",
    "                    self.energy -= (transmission + amplification + aggr)\n",
    "                self.cluster.bits = 0\n",
    "        else:\n",
    "            if self.cluster.head.die:\n",
    "                self.die = True\n",
    "                return\n",
    "            transmission = ETx * packet_bit\n",
    "            amplification = epsilon_amp * packet_bit * self.cluster.dis(self)\n",
    "            if self.energy < transmission + amplification:\n",
    "                self.die = True\n",
    "            else:\n",
    "                self.energy -= (transmission + amplification)\n",
    "            receive = ERc * packet_bit\n",
    "            self.cluster.head.energy -= receive\n",
    "            self.cluster.bits += packet_bit"
   ]
  },
  {
   "cell_type": "code",
   "execution_count": 7,
   "metadata": {},
   "outputs": [],
   "source": [
    "num_nodes = 200\n",
    "Xs = uniform.rvs(loc=0, scale=50, size=num_nodes)\n",
    "Ys = uniform.rvs(loc=0, scale=50, size=num_nodes)"
   ]
  },
  {
   "cell_type": "code",
   "execution_count": 8,
   "metadata": {},
   "outputs": [
    {
     "data": {
      "text/plain": [
       "<matplotlib.collections.PathCollection at 0x1e740ad3e08>"
      ]
     },
     "execution_count": 8,
     "metadata": {},
     "output_type": "execute_result"
    },
    {
     "data": {
      "image/png": "[encoded data removed]",
      "text/plain": [
       "<Figure size 1080x1080 with 1 Axes>"
      ]
     },
     "metadata": {
      "needs_background": "light"
     },
     "output_type": "display_data"
    }
   ],
   "source": [
    "plt.figure(figsize=(15, 15))\n",
    "plt.scatter(Xs, Ys, s = 30)"
   ]
  },
  {
   "cell_type": "code",
   "execution_count": 10,
   "metadata": {},
   "outputs": [],
   "source": [
    "T= 0.05 / (1 - 0.05 * 1)"
   ]
  },
  {
   "cell_type": "code",
   "execution_count": 13,
   "metadata": {},
   "outputs": [
    {
     "data": {
      "text/plain": [
       "array([[12.82002919, 15.50871938],\n",
       "       [44.87791202,  7.24596561],\n",
       "       [47.78056274,  7.55655276],\n",
       "       [ 5.65303826, 16.83787059],\n",
       "       [33.03011435, 30.21668409],\n",
       "       [27.55520708, 14.5214083 ],\n",
       "       [44.59232075, 46.04232146],\n",
       "       [ 4.90363137, 49.02517145],\n",
       "       [34.06359407, 49.17232417],\n",
       "       [25.92650399, 44.02274875]])"
      ]
     },
     "execution_count": 13,
     "metadata": {},
     "output_type": "execute_result"
    }
   ],
   "source": [
    "import random\n",
    "random.seed(5)\n",
    "heads = []\n",
    "for i in range(100):\n",
    "    if random.uniform (0,1) <= T: \n",
    "        heads.append([Xs[i], Ys[i]])\n",
    "heads = np.array(heads)\n",
    "heads"
   ]
  },
  {
   "cell_type": "code",
   "execution_count": null,
   "metadata": {},
   "outputs": [],
   "source": [
    "X0 = []\n",
    "Y0 = []\n",
    "X1 = []\n",
    "Y1 = []\n",
    "X2 = []\n",
    "Y2 = []\n",
    "X3 = []\n",
    "Y3 = []\n",
    "X4 = []\n",
    "Y4 = []\n",
    "X5 = []\n",
    "Y5 = []\n",
    "X6 = []\n",
    "Y6 = []\n",
    "X7 = []\n",
    "Y7 = []\n",
    "X8 = []\n",
    "Y8 = []\n",
    "X9 = []\n",
    "Y9 = []\n",
    "\n",
    "def distance(x_1, x_2, y_1, y_2):\n",
    "    return (x_1 - x_2)**2 + (y_1 - y_2)**2\n",
    "\n",
    "def choose(x_1, y_1):\n",
    "    dis0 = distance(x_1, heads[0][0], y_1, heads[0][1])\n",
    "    dis1 = distance(x_1, heads[1][0], y_1, heads[1][1])\n",
    "    dis2 = distance(x_1, heads[2][0], y_1, heads[2][1])\n",
    "    dis3 = distance(x_1, heads[3][0], y_1, heads[3][1])\n",
    "    dis4 = distance(x_1, heads[4][0], y_1, heads[4][1])\n",
    "    dis = np.min(np.asarray([dis0, dis1, dis2, dis3, dis4]))\n",
    "    if dis0 == dis:\n",
    "        X0.append(x_1)\n",
    "        Y0.append(y_1)\n",
    "    if dis1 == dis:\n",
    "        X1.append(x_1)\n",
    "        Y1.append(y_1)\n",
    "    if dis2 == dis:\n",
    "        X2.append(x_1)\n",
    "        Y2.append(y_1)\n",
    "    if dis3 == dis:\n",
    "        X3.append(x_1)\n",
    "        Y3.append(y_1)\n",
    "    if dis4 == dis:\n",
    "        X4.append(x_1)\n",
    "        Y4.append(y_1)\n",
    "        \n",
    "for i in range(100):\n",
    "    choose(Xs[i], Ys[i])\n",
    "    \n",
    "plt.figure(figsize=(15, 15))\n",
    "plt.scatter(X0, Y0, s = 30, color = 'r')\n",
    "plt.scatter(X1, Y1, s = 30, color = 'b')\n",
    "plt.scatter(X2, Y2, s = 30, color = 'g')  \n",
    "plt.scatter(X3, Y3, s = 30, color = 'y')\n",
    "plt.scatter(X4, Y4, s = 30, color = 'pink')  \n",
    "plt.scatter(heads[:, 0], heads[:, 1], s = 100, color = 'purple')"
   ]
  },
  {
   "cell_type": "code",
   "execution_count": 9,
   "metadata": {},
   "outputs": [
    {
     "name": "stdout",
     "output_type": "stream",
     "text": [
      "0 number of nodes dead 0\n",
      "400 number of nodes dead 162\n",
      "800 number of nodes dead 200\n"
     ]
    },
    {
     "data": {
      "image/png": "[encoded data removed]",
      "text/plain": [
       "<Figure size 432x288 with 1 Axes>"
      ]
     },
     "metadata": {
      "needs_background": "light"
     },
     "output_type": "display_data"
    }
   ],
   "source": [
    "packet_bit = 2000\n",
    "energy = 0.1\n",
    "num_rounds = 1000\n",
    "random.seed(1)\n",
    "color = ['red', 'blue', 'green', 'yellow', 'purple']\n",
    "index = -1\n",
    "for k in [1]:\n",
    "    index += 1\n",
    "    Nodes = [Node(Xs[i], Ys[i]) for i in range(num_nodes)]\n",
    "    clusters = []\n",
    "    dead = []\n",
    "    num = []\n",
    "    P = 0.05\n",
    "    one_by_P = 1/P\n",
    "    for i in range(num_rounds):\n",
    "        if i%400 == 0:\n",
    "            print(i, \"number of nodes dead\", len(dead))\n",
    "        num.append(len(dead))\n",
    "        #print(\"energy\", Nodes[0].energy)\n",
    "        clusters = []\n",
    "        for node in Nodes:\n",
    "            node.elect(i, clusters)\n",
    "        if len(clusters) == 0:\n",
    "            for j in range(num_nodes):\n",
    "                if j not in dead:\n",
    "                    Nodes[j].direct()\n",
    "                    if Nodes[j].die:\n",
    "                        dead.append(j)\n",
    "        else:\n",
    "            for node in Nodes:\n",
    "                node.select(i, clusters)\n",
    "            for j in range(num_nodes):\n",
    "                if j not in dead and not Nodes[j].cluster.is_head(Nodes[j]):\n",
    "                    Nodes[j].send()\n",
    "                    if Nodes[j].die:\n",
    "                        dead.append(j)\n",
    "            for j in range(num_nodes):\n",
    "                if j not in dead and Nodes[j].cluster.is_head(Nodes[j]):\n",
    "                    Nodes[j].send()\n",
    "                    if Nodes[j].die:\n",
    "                        dead.append(j)\n",
    "\n",
    "    plt.plot(range(num_rounds), num, color = color[index])"
   ]
  },
  {
   "cell_type": "code",
   "execution_count": 10,
   "metadata": {},
   "outputs": [],
   "source": [
    "from sklearn.cluster import KMeans\n",
    "data = np.transpose(np.asarray([Xs, Ys]))\n",
    "kmeans = KMeans(n_clusters=5, random_state=0).fit(data)\n",
    "labels = kmeans.labels_"
   ]
  },
  {
   "cell_type": "code",
   "execution_count": 11,
   "metadata": {},
   "outputs": [
    {
     "data": {
      "text/plain": [
       "<matplotlib.collections.PathCollection at 0x1cd2e924dc8>"
      ]
     },
     "execution_count": 11,
     "metadata": {},
     "output_type": "execute_result"
    },
    {
     "data": {
      "image/png": "[encoded data removed]",
      "text/plain": [
       "<Figure size 432x288 with 1 Axes>"
      ]
     },
     "metadata": {
      "needs_background": "light"
     },
     "output_type": "display_data"
    }
   ],
   "source": [
    "plt.scatter(Xs[[i for i in range(200) if labels[i] == 0]], Ys[[i for i in range(200) if labels[i] == 0]], s = 5)\n",
    "plt.scatter(Xs[[i for i in range(200) if labels[i] == 1]], Ys[[i for i in range(200) if labels[i] == 1]], s = 5)\n",
    "plt.scatter(Xs[[i for i in range(200) if labels[i] == 2]], Ys[[i for i in range(200) if labels[i] == 2]], s = 5)\n",
    "plt.scatter(Xs[[i for i in range(200) if labels[i] == 3]], Ys[[i for i in range(200) if labels[i] == 3]], s = 5)\n",
    "plt.scatter(Xs[[i for i in range(200) if labels[i] == 4]], Ys[[i for i in range(200) if labels[i] == 4]], s = 5)"
   ]
  },
  {
   "cell_type": "code",
   "execution_count": 12,
   "metadata": {},
   "outputs": [
    {
     "data": {
      "text/plain": [
       "array([[20.30488027, 20.43292042],\n",
       "       [44.8753825 , 37.17802351],\n",
       "       [41.01221221, 14.32841676],\n",
       "       [25.3312058 , 46.70342649],\n",
       "       [ 5.95008624, 33.9783483 ]])"
      ]
     },
     "execution_count": 12,
     "metadata": {},
     "output_type": "execute_result"
    }
   ],
   "source": [
    "from sklearn.mixture import GaussianMixture\n",
    "gm = GaussianMixture(n_components=5, random_state=0).fit(data)\n",
    "gm.means_"
   ]
  },
  {
   "cell_type": "code",
   "execution_count": 13,
   "metadata": {},
   "outputs": [],
   "source": [
    "labels = gm.predict(data)"
   ]
  },
  {
   "cell_type": "code",
   "execution_count": 14,
   "metadata": {},
   "outputs": [
    {
     "data": {
      "text/plain": [
       "<matplotlib.collections.PathCollection at 0x15de3d08448>"
      ]
     },
     "execution_count": 14,
     "metadata": {},
     "output_type": "execute_result"
    },
    {
     "data": {
      "image/png": "[encoded data removed]",
      "text/plain": [
       "<Figure size 432x288 with 1 Axes>"
      ]
     },
     "metadata": {
      "needs_background": "light"
     },
     "output_type": "display_data"
    }
   ],
   "source": [
    "plt.scatter(Xs[[i for i in range(100) if labels[i] == 0]], Ys[[i for i in range(100) if labels[i] == 0]], s = 5)\n",
    "plt.scatter(Xs[[i for i in range(200) if labels[i] == 0]], Ys[[i for i in range(200) if labels[i] == 0]], s = 5)\n",
    "plt.scatter(Xs[[i for i in range(200) if labels[i] == 1]], Ys[[i for i in range(200) if labels[i] == 1]], s = 5)\n",
    "plt.scatter(Xs[[i for i in range(200) if labels[i] == 2]], Ys[[i for i in range(200) if labels[i] == 2]], s = 5)\n",
    "plt.scatter(Xs[[i for i in range(200) if labels[i] == 3]], Ys[[i for i in range(200) if labels[i] == 3]], s = 5)\n",
    "plt.scatter(Xs[[i for i in range(200) if labels[i] == 4]], Ys[[i for i in range(200) if labels[i] == 4]], s = 5)"
   ]
  },
  {
   "cell_type": "code",
   "execution_count": 12,
   "metadata": {},
   "outputs": [
    {
     "name": "stdout",
     "output_type": "stream",
     "text": [
      "0 number of nodes dead 0\n",
      "50 number of nodes dead 0\n",
      "100 number of nodes dead 0\n",
      "150 number of nodes dead 0\n",
      "200 number of nodes dead 0\n",
      "250 number of nodes dead 0\n",
      "300 number of nodes dead 0\n",
      "350 number of nodes dead 0\n",
      "400 number of nodes dead 12\n"
     ]
    }
   ],
   "source": [
    "Nodes = np.asarray([Node(Xs[i], Ys[i]) for i in range(num_nodes)])\n",
    "dead = []\n",
    "nums = []\n",
    "j = -1\n",
    "C = []\n",
    "for i in range(num_rounds):\n",
    "    if len(dead) >= num_nodes - 1:\n",
    "        nums.append(len(dead))\n",
    "        continue\n",
    "    nums.append(len(dead))\n",
    "    if i % 50 == 0:\n",
    "        print(i, \"number of nodes dead\", len(dead))\n",
    "    index = np.asarray([i for i in range(num_nodes) if i not in dead])\n",
    "    survive = data[[i for i in range(num_nodes) if i not in dead]]\n",
    "    num_clusters = max(int((num_nodes - len(dead))*0.05 + 1), 3)\n",
    "    kmeans = KMeans(n_clusters = num_clusters, random_state=0, max_iter = 5).fit(data)\n",
    "    C = [Cluster() for i in range(num_clusters)]\n",
    "    labels = kmeans.labels_\n",
    "    for k in range(num_clusters):\n",
    "        C[k].nodes = Nodes[index[[j for j in range(len(survive)) if labels[j] == k]]]\n",
    "        for q in index[[j for j in range(len(survive)) if labels[j] == k]]:\n",
    "            Nodes[q].cluster = C[k]\n",
    "    for c in C:\n",
    "        maxE = 0\n",
    "        maxN = None\n",
    "        for n in c.nodes:\n",
    "            if n.energy > maxE:\n",
    "                maxN = n\n",
    "                maxE = n.energy\n",
    "        if maxN is not None:\n",
    "            c.head = maxN\n",
    "    for k in range(num_nodes):\n",
    "        if k not in dead and not Nodes[j].cluster.is_head(Nodes[j]):\n",
    "            if Nodes[k].cluster.head.die:\n",
    "                Nodes[k].direct()\n",
    "            else:\n",
    "                Nodes[k].send()\n",
    "            if Nodes[k].die:\n",
    "                dead.append(k)\n",
    "    for k in range(num_nodes):\n",
    "        if k not in dead and Nodes[j].cluster.is_head(Nodes[j]):\n",
    "            if Nodes[k].cluster.head.die:\n",
    "                Nodes[k].direct()\n",
    "            else:\n",
    "                Nodes[k].send()\n",
    "            if Nodes[k].die:\n",
    "                dead.append(k)"
   ]
  },
  {
   "cell_type": "code",
   "execution_count": 16,
   "metadata": {},
   "outputs": [
    {
     "name": "stdout",
     "output_type": "stream",
     "text": [
      "0 number of nodes dead 0\n",
      "50 number of nodes dead 0\n",
      "100 number of nodes dead 0\n",
      "150 number of nodes dead 0\n",
      "200 number of nodes dead 0\n",
      "250 number of nodes dead 0\n",
      "300 number of nodes dead 0\n",
      "350 number of nodes dead 0\n",
      "400 number of nodes dead 66\n"
     ]
    },
    {
     "ename": "AttributeError",
     "evalue": "'NoneType' object has no attribute 'die'",
     "output_type": "error",
     "traceback": [
      "\u001b[1;31m---------------------------------------------------------------------------\u001b[0m",
      "\u001b[1;31mAttributeError\u001b[0m                            Traceback (most recent call last)",
      "\u001b[1;32m<ipython-input-16-2528af9b8f6d>\u001b[0m in \u001b[0;36m<module>\u001b[1;34m\u001b[0m\n\u001b[0;32m     32\u001b[0m     \u001b[1;32mfor\u001b[0m \u001b[0mk\u001b[0m \u001b[1;32min\u001b[0m \u001b[0mrange\u001b[0m\u001b[1;33m(\u001b[0m\u001b[0mnum_nodes\u001b[0m\u001b[1;33m)\u001b[0m\u001b[1;33m:\u001b[0m\u001b[1;33m\u001b[0m\u001b[1;33m\u001b[0m\u001b[0m\n\u001b[0;32m     33\u001b[0m         \u001b[1;32mif\u001b[0m \u001b[0mk\u001b[0m \u001b[1;32mnot\u001b[0m \u001b[1;32min\u001b[0m \u001b[0mdead\u001b[0m \u001b[1;32mand\u001b[0m \u001b[1;32mnot\u001b[0m \u001b[0mNodes\u001b[0m\u001b[1;33m[\u001b[0m\u001b[0mj\u001b[0m\u001b[1;33m]\u001b[0m\u001b[1;33m.\u001b[0m\u001b[0mcluster\u001b[0m\u001b[1;33m.\u001b[0m\u001b[0mis_head\u001b[0m\u001b[1;33m(\u001b[0m\u001b[0mNodes\u001b[0m\u001b[1;33m[\u001b[0m\u001b[0mj\u001b[0m\u001b[1;33m]\u001b[0m\u001b[1;33m)\u001b[0m\u001b[1;33m:\u001b[0m\u001b[1;33m\u001b[0m\u001b[1;33m\u001b[0m\u001b[0m\n\u001b[1;32m---> 34\u001b[1;33m             \u001b[1;32mif\u001b[0m \u001b[0mNodes\u001b[0m\u001b[1;33m[\u001b[0m\u001b[0mk\u001b[0m\u001b[1;33m]\u001b[0m\u001b[1;33m.\u001b[0m\u001b[0mcluster\u001b[0m\u001b[1;33m.\u001b[0m\u001b[0mhead\u001b[0m\u001b[1;33m.\u001b[0m\u001b[0mdie\u001b[0m\u001b[1;33m:\u001b[0m\u001b[1;33m\u001b[0m\u001b[1;33m\u001b[0m\u001b[0m\n\u001b[0m\u001b[0;32m     35\u001b[0m                 \u001b[0mNodes\u001b[0m\u001b[1;33m[\u001b[0m\u001b[0mk\u001b[0m\u001b[1;33m]\u001b[0m\u001b[1;33m.\u001b[0m\u001b[0mdirect\u001b[0m\u001b[1;33m(\u001b[0m\u001b[1;33m)\u001b[0m\u001b[1;33m\u001b[0m\u001b[1;33m\u001b[0m\u001b[0m\n\u001b[0;32m     36\u001b[0m             \u001b[1;32melse\u001b[0m\u001b[1;33m:\u001b[0m\u001b[1;33m\u001b[0m\u001b[1;33m\u001b[0m\u001b[0m\n",
      "\u001b[1;31mAttributeError\u001b[0m: 'NoneType' object has no attribute 'die'"
     ]
    }
   ],
   "source": [
    "Nodes = np.asarray([Node(Xs[i], Ys[i]) for i in range(num_nodes)])\n",
    "dead = []\n",
    "nums1 = []\n",
    "j = -1\n",
    "C = []\n",
    "for i in range(num_rounds):\n",
    "    if len(dead) == 200:\n",
    "        nums1.append(len(dead))\n",
    "        continue\n",
    "    nums1.append(len(dead))\n",
    "    if i % 50 == 0:\n",
    "        print(i, \"number of nodes dead\", len(dead))\n",
    "    index = np.asarray([i for i in range(num_nodes) if i not in dead])\n",
    "    survive = data[[i for i in range(num_nodes) if i not in dead]]\n",
    "    num_clusters = max(int((num_nodes - len(dead))*0.05 + 1), 3)\n",
    "    kmeans = GaussianMixture(n_components=5, random_state=0).fit(data)\n",
    "    C = [Cluster() for i in range(num_clusters)]\n",
    "    labels = kmeans.predict(data)\n",
    "    for k in range(num_clusters):\n",
    "        C[k].nodes = Nodes[index[[j for j in range(len(survive)) if labels[j] == k]]]\n",
    "        for q in index[[j for j in range(len(survive)) if labels[j] == k]]:\n",
    "            Nodes[q].cluster = C[k]\n",
    "    for c in C:\n",
    "        maxE = 0\n",
    "        maxN = None\n",
    "        for n in c.nodes:\n",
    "            if n.energy > maxE:\n",
    "                maxN = n\n",
    "                maxE = n.energy\n",
    "        if maxN is not None:\n",
    "            c.head = maxN\n",
    "    for k in range(num_nodes):\n",
    "        if k not in dead and not Nodes[j].cluster.is_head(Nodes[j]):\n",
    "            if Nodes[k].cluster.head.die:\n",
    "                Nodes[k].direct()\n",
    "            else:\n",
    "                Nodes[k].send()\n",
    "            if Nodes[k].die:\n",
    "                dead.append(k)\n",
    "    for k in range(num_nodes):\n",
    "        if k not in dead and Nodes[j].cluster.is_head(Nodes[j]):\n",
    "            if Nodes[k].cluster.head.die:\n",
    "                Nodes[k].direct()\n",
    "            else:\n",
    "                Nodes[k].send()\n",
    "            if Nodes[k].die:\n",
    "                dead.append(k)"
   ]
  },
  {
   "cell_type": "code",
   "execution_count": 19,
   "metadata": {},
   "outputs": [
    {
     "data": {
      "text/plain": [
       "<matplotlib.legend.Legend at 0x1cd2edc4fc8>"
      ]
     },
     "execution_count": 19,
     "metadata": {},
     "output_type": "execute_result"
    },
    {
     "data": {
      "image/png": "[encoded data removed]",
      "text/plain": [
       "<Figure size 432x288 with 1 Axes>"
      ]
     },
     "metadata": {
      "needs_background": "light"
     },
     "output_type": "display_data"
    }
   ],
   "source": [
    "plt.plot(range(num_rounds), num, color = \"red\", label = \"LEACH\")\n",
    "plt.plot(range(num_rounds), nums, color = \"blue\", label = \"LEACH KMeans\")\n",
    "plt.ylabel(\"number of nodes died\")\n",
    "plt.xlabel(\"number of rounds\")\n",
    "plt.legend()\n",
    "#plt.plot(range(num_rounds), nums1, color = \"green\")"
   ]
  },
  {
   "cell_type": "code",
   "execution_count": 32,
   "metadata": {},
   "outputs": [
    {
     "name": "stdout",
     "output_type": "stream",
     "text": [
      "[[19.77279001 18.52824052]\n",
      " [25.81417633 41.62602286]\n",
      " [22.63857768  5.7247734 ]\n",
      " [24.34807782 13.94538391]\n",
      " [45.50238086 27.39677427]\n",
      " [34.73554335 42.37986089]\n",
      " [24.43677767  5.42264569]\n",
      " [17.36836427 38.71563231]\n",
      " [37.97585148 18.21002535]\n",
      " [40.91606674 21.0555143 ]]\n"
     ]
    },
    {
     "data": {
      "text/plain": [
       "<matplotlib.collections.PathCollection at 0x1cd2fc3e5c8>"
      ]
     },
     "execution_count": 32,
     "metadata": {},
     "output_type": "execute_result"
    },
    {
     "data": {
      "image/png": "[encoded data removed]",
      "text/plain": [
       "<Figure size 432x288 with 1 Axes>"
      ]
     },
     "metadata": {
      "needs_background": "light"
     },
     "output_type": "display_data"
    }
   ],
   "source": [
    "T= 0.05 / (1 - 0.05 * 1)\n",
    "import random\n",
    "random.seed(1)\n",
    "heads = []\n",
    "for i in range(100):\n",
    "    if random.uniform (0,1) <= T: \n",
    "        heads.append([Xs[i], Ys[i]])\n",
    "heads = np.array(heads)\n",
    "print(heads)\n",
    "\n",
    "X0 = []\n",
    "Y0 = []\n",
    "X1 = []\n",
    "Y1 = []\n",
    "X2 = []\n",
    "Y2 = []\n",
    "X3 = []\n",
    "Y3 = []\n",
    "X4 = []\n",
    "Y4 = []\n",
    "X5 = []\n",
    "Y5 = []\n",
    "X6 = []\n",
    "Y6 = []\n",
    "X7 = []\n",
    "Y7 = []\n",
    "X8 = []\n",
    "Y8 = []\n",
    "X9 = []\n",
    "Y9 = []\n",
    "\n",
    "def distance(x_1, x_2, y_1, y_2):\n",
    "    return (x_1 - x_2)**2 + (y_1 - y_2)**2\n",
    "\n",
    "def choose(x_1, y_1):\n",
    "    dis0 = distance(x_1, heads[0][0], y_1, heads[0][1])\n",
    "    dis1 = distance(x_1, heads[1][0], y_1, heads[1][1])\n",
    "    dis2 = distance(x_1, heads[2][0], y_1, heads[2][1])\n",
    "    dis3 = distance(x_1, heads[3][0], y_1, heads[3][1])\n",
    "    dis4 = distance(x_1, heads[4][0], y_1, heads[4][1])\n",
    "    dis5 = distance(x_1, heads[0][0], y_1, heads[0][1])\n",
    "    dis1 = distance(x_1, heads[1][0], y_1, heads[1][1])\n",
    "    dis2 = distance(x_1, heads[2][0], y_1, heads[2][1])\n",
    "    dis3 = distance(x_1, heads[3][0], y_1, heads[3][1])\n",
    "    dis4 = distance(x_1, heads[4][0], y_1, heads[4][1])\n",
    "    dis = np.min(np.asarray([dis0, dis1, dis2, dis3, dis4]))\n",
    "    if dis0 == dis:\n",
    "        X0.append(x_1)\n",
    "        Y0.append(y_1)\n",
    "    if dis1 == dis:\n",
    "        X1.append(x_1)\n",
    "        Y1.append(y_1)\n",
    "    if dis2 == dis:\n",
    "        X2.append(x_1)\n",
    "        Y2.append(y_1)\n",
    "    if dis3 == dis:\n",
    "        X3.append(x_1)\n",
    "        Y3.append(y_1)\n",
    "    if dis4 == dis:\n",
    "        X4.append(x_1)\n",
    "        Y4.append(y_1)\n",
    "        \n",
    "for i in range(100):\n",
    "    choose(Xs[i], Ys[i])\n",
    "    \n",
    "#plt.figure(figsize=(15, 15))\n",
    "plt.scatter(X0, Y0, s = 10)\n",
    "plt.scatter(X1, Y1, s = 10)\n",
    "plt.scatter(X2, Y2, s = 10)  \n",
    "plt.scatter(X3, Y3, s = 10)\n",
    "plt.scatter(X4, Y4, s = 10)  \n",
    "plt.scatter(X5, Y5, s = 10)\n",
    "plt.scatter(X1, Y1, s = 10)\n",
    "plt.scatter(X2, Y2, s = 10)  \n",
    "plt.scatter(X3, Y3, s = 10)\n",
    "plt.scatter(X4, Y4, s = 10)  \n",
    "#plt.scatter(heads[:, 0], heads[:, 1], s = 100, color = 'purple')"
   ]
  },
  {
   "cell_type": "code",
   "execution_count": 19,
   "metadata": {},
   "outputs": [
    {
     "name": "stdout",
     "output_type": "stream",
     "text": [
      "0 number of nodes dead 0\n",
      "400 number of nodes dead 200\n",
      "800 number of nodes dead 200\n"
     ]
    }
   ],
   "source": [
    "Nodes = [None for i in range(num_nodes)]\n",
    "\n",
    "for i in range(num_nodes):\n",
    "    Nodes[i] = Node(Xs[i], Ys[i])\n",
    "num2 = []\n",
    "dead = []\n",
    "for i in range(num_rounds):\n",
    "    num2.append(len(dead))\n",
    "    if i%400 == 0:\n",
    "        print(i, \"number of nodes dead\", len(dead))\n",
    "    #print(Nodes[0].energy)\n",
    "    for j in range(num_nodes):\n",
    "        if j not in dead:\n",
    "            Nodes[j].direct()\n",
    "            if Nodes[j].die:\n",
    "                dead.append(j)"
   ]
  },
  {
   "cell_type": "code",
   "execution_count": 21,
   "metadata": {},
   "outputs": [
    {
     "data": {
      "text/plain": [
       "[<matplotlib.lines.Line2D at 0x15de3fc4948>]"
      ]
     },
     "execution_count": 21,
     "metadata": {},
     "output_type": "execute_result"
    },
    {
     "data": {
      "image/png": "[encoded data removed]",
      "text/plain": [
       "<Figure size 432x288 with 1 Axes>"
      ]
     },
     "metadata": {
      "needs_background": "light"
     },
     "output_type": "display_data"
    }
   ],
   "source": [
    "plt.plot(range(num_rounds), num, color = \"red\")\n",
    "plt.plot(range(num_rounds), num2, color = \"green\")\n",
    "plt.plot(range(num_rounds), nums, color = \"blue\")"
   ]
  },
  {
   "cell_type": "code",
   "execution_count": null,
   "metadata": {},
   "outputs": [],
   "source": []
  }
 ],
 "metadata": {
  "kernelspec": {
   "display_name": "Python 3",
   "language": "python",
   "name": "python3"
  },
  "language_info": {
   "codemirror_mode": {
    "name": "ipython",
    "version": 3
   },
   "file_extension": ".py",
   "mimetype": "text/x-python",
   "name": "python",
   "nbconvert_exporter": "python",
   "pygments_lexer": "ipython3",
   "version": "3.7.6"
  }
 },
 "nbformat": 4,
 "nbformat_minor": 4
}
